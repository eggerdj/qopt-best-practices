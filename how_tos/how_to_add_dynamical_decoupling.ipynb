{
 "cells": [
  {
   "cell_type": "code",
   "execution_count": 1,
   "id": "9750e811-ef28-4cd6-9d4c-95cdef31922e",
   "metadata": {},
   "outputs": [],
   "source": [
    "import json\n",
    "\n",
    "from qiskit import transpile\n",
    "from qiskit.circuit.library import QAOAAnsatz, CXGate\n",
    "from qiskit.quantum_info import SparsePauliOp\n",
    "from qiskit.transpiler.passes.routing.commuting_2q_gate_routing import SwapStrategy\n",
    "\n",
    "from qiskit_ibm_provider import IBMProvider\n",
    "\n",
    "from qopt_best_practices.swap_strategies import create_qaoa_swap_circuit\n",
    "from qopt_best_practices.utils import load_edge_coloring"
   ]
  },
  {
   "cell_type": "code",
   "execution_count": 2,
   "id": "fd5c7e76-a9cb-430e-9dc9-aba93e50424b",
   "metadata": {},
   "outputs": [],
   "source": [
    "with open(\"data/graph_hardware_native_127nodes_001.json\", \"r\") as fin:\n",
    "    data = json.load(fin)\n",
    "\n",
    "cost_operator = SparsePauliOp.from_list(data[\"paulis\"])"
   ]
  },
  {
   "cell_type": "code",
   "execution_count": 3,
   "id": "ed94423b-2e51-4cda-97c8-de587b6119f5",
   "metadata": {},
   "outputs": [],
   "source": [
    "provider = IBMProvider(instance=\"quantum-demonstrations/main/locc\")\n",
    "backend = provider.get_backend(\"ibm_kyiv\")"
   ]
  },
  {
   "cell_type": "markdown",
   "id": "312e8cad-a9c8-4ad4-a3df-21073859ba3c",
   "metadata": {},
   "source": [
    "## Circuit creation\n",
    "\n",
    "The problem is hardware native. Therefor, if we transpile its QAOA circuit to a 127 qubit backend with CNOT gates and a heavy-hexagonal coupling map then we expect to have (i) 288 CX gates per QAOA layer because a 127 qubit backend has 144 edges in its coupling map and each `RZZGate` requires two CNOT gates, and (ii) a CNOT depth of 6 because the heavy-hex coupling map has a maximum node degree of three. We will first construct a circuit with the standard Qiskit transpilation flow and show that it is sub-optimal."
   ]
  },
  {
   "cell_type": "code",
   "execution_count": 6,
   "id": "bb5c892a-beba-4e7e-9de2-1a7e7c6939a0",
   "metadata": {},
   "outputs": [],
   "source": [
    "p = 2\n",
    "qaoa_circuit = QAOAAnsatz(cost_operator, reps=p)\n",
    "qaoa_circuit = transpile(qaoa_circuit, backend, optimization_level=3)"
   ]
  },
  {
   "cell_type": "code",
   "execution_count": 7,
   "id": "1447445f-594d-4f7b-92b3-543ebf1a8347",
   "metadata": {},
   "outputs": [
    {
     "name": "stdout",
     "output_type": "stream",
     "text": [
      "Number of two-qubit gates: 576\n",
      "CNOT gate depth: 80\n"
     ]
    }
   ],
   "source": [
    "print(\"Number of two-qubit gates:\", qaoa_circuit.count_ops()[\"cx\"])\n",
    "print(\"CNOT gate depth:\", qaoa_circuit.depth(filter_function=lambda x: x.operation == CXGate()))"
   ]
  },
  {
   "cell_type": "markdown",
   "id": "3a511837-4aa3-4e93-8a2d-ff65d857e9d0",
   "metadata": {},
   "source": [
    "We can see above that the Qiskit transpiler has produced a hardware native circuit, because the number of two-qubit gates is the minimum number we need, i.e., `p * 2 * 144`. However, something went wrong in the circuit depth. We have a CNOT gate depth of 80 when we were expecting `2 * p * 3`. This shows that the gates have been staggereg instead of placed in parallel. To fix this we will transpile with an empty swap network. We chose an empty network because we do not need swaps but we still need the ability of this transpiler pass to place commuting two-qubit gates in parallel."
   ]
  },
  {
   "cell_type": "code",
   "execution_count": 8,
   "id": "c50254e1-7969-497d-a996-920ee48e2803",
   "metadata": {},
   "outputs": [],
   "source": [
    "edge_coloring = load_edge_coloring()\n",
    "no_swaps = SwapStrategy(backend.coupling_map, ())\n",
    "qaoa_circuit = transpile(create_qaoa_swap_circuit(cost_operator, no_swaps, qaoa_layers=p, edge_coloring=edge_coloring), backend)"
   ]
  },
  {
   "cell_type": "code",
   "execution_count": 9,
   "id": "de8d932a-bde5-41af-aa30-305b1a2bb28f",
   "metadata": {},
   "outputs": [
    {
     "name": "stdout",
     "output_type": "stream",
     "text": [
      "Number of two-qubit gates: 576\n",
      "CNOT gate depth: 12\n"
     ]
    }
   ],
   "source": [
    "print(\"Number of two-qubit gates:\", qaoa_circuit.count_ops()[\"cx\"])\n",
    "print(\"CNOT gate depth:\", qaoa_circuit.depth(filter_function=lambda x: x.operation == CXGate()))"
   ]
  },
  {
   "cell_type": "markdown",
   "id": "9aa089d8-031f-4f52-b937-206b2b5b69d0",
   "metadata": {},
   "source": [
    "We now have the expected circuit depth. Here, `2 * p * 3`."
   ]
  },
  {
   "cell_type": "markdown",
   "id": "f07777de-168f-4382-b654-b0763330d2ec",
   "metadata": {},
   "source": [
    "## Dynamical decoupling\n",
    "\n",
    "The hardware native circuit will have plenty of idling qubits. Indeed, on a heavy-hexagonal coupling map if a CX gate is applied to an edge then we are guarenteed to have at least one idling qubit given that on any edge one node has degree two and one node has degree three. In the following we will insert dynamical decoupling gate sequences to protect the idling qubits."
   ]
  },
  {
   "cell_type": "code",
   "execution_count": 10,
   "id": "2e15b079-a301-417d-ba6d-004e04eea40e",
   "metadata": {},
   "outputs": [],
   "source": [
    "from qopt_best_practices.transpilation import dd_pass_manager"
   ]
  },
  {
   "cell_type": "code",
   "execution_count": 12,
   "id": "f0a41d0a-dbc2-46dd-af30-5bb9255b361c",
   "metadata": {},
   "outputs": [],
   "source": [
    "dd_xx = dd_pass_manager(backend, \"XX\")"
   ]
  },
  {
   "cell_type": "code",
   "execution_count": 14,
   "id": "49ec7778-f426-42aa-9715-e4d890041d94",
   "metadata": {},
   "outputs": [],
   "source": [
    "xx_circuit = dd_xx.run(qaoa_circuit)"
   ]
  },
  {
   "cell_type": "code",
   "execution_count": 15,
   "id": "f67002b3-a898-47b6-9637-7378c0bad623",
   "metadata": {},
   "outputs": [
    {
     "data": {
      "text/plain": [
       "ParameterView([ParameterVectorElement(β[0]), ParameterVectorElement(β[1]), ParameterVectorElement(γ[0]), ParameterVectorElement(γ[1])])"
      ]
     },
     "execution_count": 15,
     "metadata": {},
     "output_type": "execute_result"
    }
   ],
   "source": [
    "qaoa_circuit.parameters"
   ]
  },
  {
   "cell_type": "code",
   "execution_count": 18,
   "id": "e8eca95d-bee4-4980-bd8c-3b103b316a09",
   "metadata": {},
   "outputs": [],
   "source": [
    "from denoising.light_cone_qaoa import LightConeQAOA\n",
    "from qopt_best_practices.utils import build_max_cut_graph"
   ]
  },
  {
   "cell_type": "code",
   "execution_count": 20,
   "id": "d1b9183f-9325-40a2-816e-82ad3dafbc7d",
   "metadata": {},
   "outputs": [],
   "source": [
    "graph = build_max_cut_graph(data[\"paulis\"])"
   ]
  },
  {
   "cell_type": "code",
   "execution_count": 24,
   "id": "3fd5c0d3-ee33-4a4f-bfdc-de33cff19f4a",
   "metadata": {},
   "outputs": [],
   "source": [
    "import networkx as nx"
   ]
  },
  {
   "cell_type": "code",
   "execution_count": 27,
   "id": "be63d281-91f1-4d7f-8134-97ca7dd27b4f",
   "metadata": {},
   "outputs": [
    {
     "data": {
      "text/plain": [
       "<networkx.classes.graph.Graph at 0x22cee3234d0>"
      ]
     },
     "execution_count": 27,
     "metadata": {},
     "output_type": "execute_result"
    }
   ],
   "source": [
    "nx.from_edgelist([(0, 1), (1, 2)])"
   ]
  },
  {
   "cell_type": "code",
   "execution_count": 22,
   "id": "ff3f5a1e-5d34-4978-a94d-7d515979937c",
   "metadata": {},
   "outputs": [
    {
     "name": "stdout",
     "output_type": "stream",
     "text": [
      "(0, 1)\n",
      "(0, 14)\n",
      "(1, 2)\n",
      "(2, 3)\n",
      "(3, 4)\n",
      "(4, 15)\n",
      "(4, 5)\n",
      "(15, 22)\n",
      "(5, 6)\n",
      "(6, 7)\n",
      "(7, 8)\n",
      "(8, 9)\n",
      "(8, 16)\n",
      "(9, 10)\n",
      "(10, 11)\n",
      "(11, 12)\n",
      "(12, 17)\n",
      "(12, 13)\n",
      "(17, 30)\n",
      "(14, 18)\n",
      "(16, 26)\n",
      "(30, 29)\n",
      "(30, 31)\n",
      "(18, 19)\n",
      "(19, 20)\n",
      "(20, 33)\n",
      "(20, 21)\n",
      "(33, 39)\n",
      "(21, 22)\n",
      "(22, 23)\n",
      "(23, 24)\n",
      "(24, 25)\n",
      "(24, 34)\n",
      "(25, 26)\n",
      "(26, 27)\n",
      "(27, 28)\n",
      "(28, 29)\n",
      "(28, 35)\n",
      "(31, 32)\n",
      "(32, 36)\n",
      "(36, 51)\n",
      "(39, 38)\n",
      "(39, 40)\n",
      "(34, 43)\n",
      "(35, 47)\n",
      "(47, 46)\n",
      "(47, 48)\n",
      "(51, 50)\n",
      "(37, 38)\n",
      "(37, 52)\n",
      "(40, 41)\n",
      "(41, 42)\n",
      "(41, 53)\n",
      "(42, 43)\n",
      "(43, 44)\n",
      "(44, 45)\n",
      "(45, 46)\n",
      "(45, 54)\n",
      "(48, 49)\n",
      "(49, 50)\n",
      "(49, 55)\n",
      "(52, 56)\n",
      "(56, 57)\n",
      "(53, 60)\n",
      "(54, 64)\n",
      "(64, 63)\n",
      "(64, 65)\n",
      "(55, 68)\n",
      "(68, 67)\n",
      "(68, 69)\n",
      "(57, 58)\n",
      "(58, 59)\n",
      "(58, 71)\n",
      "(59, 60)\n",
      "(71, 77)\n",
      "(60, 61)\n",
      "(61, 62)\n",
      "(62, 63)\n",
      "(62, 72)\n",
      "(65, 66)\n",
      "(66, 73)\n",
      "(66, 67)\n",
      "(73, 85)\n",
      "(69, 70)\n",
      "(70, 74)\n",
      "(74, 89)\n",
      "(72, 81)\n",
      "(81, 80)\n",
      "(81, 82)\n",
      "(85, 84)\n",
      "(85, 86)\n",
      "(89, 88)\n",
      "(75, 76)\n",
      "(75, 90)\n",
      "(76, 77)\n",
      "(77, 78)\n",
      "(78, 79)\n",
      "(79, 80)\n",
      "(79, 91)\n",
      "(82, 83)\n",
      "(83, 92)\n",
      "(83, 84)\n",
      "(92, 102)\n",
      "(86, 87)\n",
      "(87, 88)\n",
      "(87, 93)\n",
      "(90, 94)\n",
      "(91, 98)\n",
      "(102, 101)\n",
      "(102, 103)\n",
      "(93, 106)\n",
      "(106, 105)\n",
      "(106, 107)\n",
      "(94, 95)\n",
      "(95, 96)\n",
      "(96, 97)\n",
      "(96, 109)\n",
      "(97, 98)\n",
      "(109, 114)\n",
      "(98, 99)\n",
      "(99, 100)\n",
      "(100, 110)\n",
      "(100, 101)\n",
      "(110, 118)\n",
      "(103, 104)\n",
      "(104, 105)\n",
      "(104, 111)\n",
      "(111, 122)\n",
      "(107, 108)\n",
      "(108, 112)\n",
      "(112, 126)\n",
      "(114, 113)\n",
      "(114, 115)\n",
      "(122, 121)\n",
      "(122, 123)\n",
      "(126, 125)\n",
      "(115, 116)\n",
      "(116, 117)\n",
      "(117, 118)\n",
      "(118, 119)\n",
      "(119, 120)\n",
      "(120, 121)\n",
      "(123, 124)\n",
      "(124, 125)\n"
     ]
    }
   ],
   "source": [
    "for edge in graph.edges():\n",
    "    print(edge)"
   ]
  },
  {
   "cell_type": "code",
   "execution_count": null,
   "id": "77921770-e707-4019-a99c-fab6f3a45dbd",
   "metadata": {},
   "outputs": [],
   "source": []
  }
 ],
 "metadata": {
  "kernelspec": {
   "display_name": "Python 3 (ipykernel)",
   "language": "python",
   "name": "python3"
  },
  "language_info": {
   "codemirror_mode": {
    "name": "ipython",
    "version": 3
   },
   "file_extension": ".py",
   "mimetype": "text/x-python",
   "name": "python",
   "nbconvert_exporter": "python",
   "pygments_lexer": "ipython3",
   "version": "3.11.5"
  }
 },
 "nbformat": 4,
 "nbformat_minor": 5
}
