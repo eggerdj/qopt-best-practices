{
 "cells": [
  {
   "cell_type": "markdown",
   "metadata": {
    "pycharm": {
     "name": "#%% md\n"
    }
   },
   "source": [
    "# Installation Test\n",
    "\n",
    "Run the cell below (press `Shift` + `Enter`) to check that all the imports work correctly. If you see the 🎉 emoji as the cell output, your installation was successful."
   ]
  },
  {
   "cell_type": "code",
   "execution_count": 1,
   "metadata": {
    "pycharm": {
     "name": "#%%\n"
    }
   },
   "outputs": [
    {
     "name": "stdout",
     "output_type": "stream",
     "text": [
      "Your installation works 🎉!\n"
     ]
    }
   ],
   "source": [
    "import matplotlib.pyplot\n",
    "import networkx as nx\n",
    "from demo_src.map import map_qubo_to_ising\n",
    "from qiskit_ibm_runtime.fake_provider import FakeVigoV2\n",
    "from qiskit import qpy\n",
    "from qiskit_aer import Aer\n",
    "from qiskit_optimization.applications import Maxcut\n",
    "print(\"Your installation works 🎉!\")"
   ]
  }
 ],
 "metadata": {
  "kernelspec": {
   "display_name": "ibm_tech_clean",
   "language": "python",
   "name": "ibm_tech_clean"
  },
  "language_info": {
   "codemirror_mode": {
    "name": "ipython",
    "version": 3
   },
   "file_extension": ".py",
   "mimetype": "text/x-python",
   "name": "python",
   "nbconvert_exporter": "python",
   "pygments_lexer": "ipython3",
   "version": "3.10.0"
  }
 },
 "nbformat": 4,
 "nbformat_minor": 1
}
