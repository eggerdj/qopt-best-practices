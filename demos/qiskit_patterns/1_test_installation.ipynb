{
 "cells": [
  {
   "cell_type": "markdown",
   "metadata": {
    "pycharm": {
     "name": "#%% md\n"
    }
   },
   "source": [
    "# Installation Test\n",
    "\n",
    "Run the cell below (press `Shift` + `Enter`) to check that all the imports work correctly. If you see the 🎉 emoji as the cell output, your installation was successful."
   ]
  },
  {
   "cell_type": "code",
   "execution_count": null,
   "metadata": {
    "pycharm": {
     "name": "#%%\n"
    }
   },
   "outputs": [],
   "source": [
    "import matplotlib.pyplot\n",
    "import networkx as nx\n",
    "from qiskit_ibm_runtime.fake_provider import FakeVigoV2\n",
    "from qiskit import qpy\n",
    "from qiskit_aer import Aer\n",
    "from qiskit_optimization.applications import Maxcut\n",
    "print(\"Your installation works 🎉!\")"
   ]
  },
  {
   "cell_type": "markdown",
   "metadata": {},
   "source": [
    "If you have followed the installation instructions (i.e. you have run `pip install -r requirements.txt`) and you get a `module not found` error, your jupyter environment might not be using the right Python kernel. You can try following the following instructions to register your kernel: https://saturncloud.io/blog/how-to-add-a-python-3-kernel-to-jupyter-ipython/."
   ]
  },
  {
   "cell_type": "markdown",
   "metadata": {
    "pycharm": {
     "name": "#%%\n"
    }
   },
   "source": [
    "If you have not done so yet, you can use the cell below to check that your IBM Quantum Platform account registration has been successful. The backend retrieval step may take a couple of seconds."
   ]
  },
  {
   "cell_type": "code",
   "execution_count": null,
   "metadata": {
    "pycharm": {
     "name": "#%%\n"
    }
   },
   "outputs": [],
   "source": [
    "from qiskit_ibm_runtime import QiskitRuntimeService\n",
    "\n",
    "service = QiskitRuntimeService()\n",
    "print(\"Your available backends are: \", service.backends())"
   ]
  },
  {
   "cell_type": "markdown",
   "metadata": {
    "pycharm": {
     "name": "#%% md\n"
    }
   },
   "source": [
    "If your service authentication fails (you get an `IBMNotAuthorizedError`), you can try saving your account again. Make sure to replace `\"<MY_IBM_QUANTUM_TOKEN>\"` with your token in string format (example: `service = QiskitRuntimeService(channel=\"ibm_quantum\", token=\"1234abcd\")`)."
   ]
  },
  {
   "cell_type": "code",
   "execution_count": null,
   "metadata": {
    "pycharm": {
     "name": "#%%\n"
    }
   },
   "outputs": [],
   "source": [
    "from qiskit_ibm_runtime import QiskitRuntimeService\n",
    "\n",
    "# Save an IBM Quantum account and set it as your default account.\n",
    "QiskitRuntimeService.save_account(channel=\"ibm_quantum\", token=\"<MY_IBM_QUANTUM_TOKEN>\", overwrite=True, set_as_default=True)\n",
    "\n",
    "# Load saved credentials\n",
    "service = QiskitRuntimeService()"
   ]
  }
 ],
 "metadata": {
  "kernelspec": {
   "display_name": "ibm_tech_clean",
   "language": "python",
   "name": "ibm_tech_clean"
  },
  "language_info": {
   "codemirror_mode": {
    "name": "ipython",
    "version": 3
   },
   "file_extension": ".py",
   "mimetype": "text/x-python",
   "name": "python",
   "nbconvert_exporter": "python",
   "pygments_lexer": "ipython3",
   "version": "3.10.0"
  }
 },
 "nbformat": 4,
 "nbformat_minor": 1
}
